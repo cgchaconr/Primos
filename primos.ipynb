{
 "cells": [
  {
   "cell_type": "code",
   "execution_count": null,
   "metadata": {},
   "outputs": [
    {
     "name": "stdout",
     "output_type": "stream",
     "text": [
      "372.97907304763794\n"
     ]
    }
   ],
   "source": [
    "import time\n",
    "start= time.time()   \n",
    "def Gen_primos(cantidad):\n",
    "    primos=[2]\n",
    "    prueba=3 \n",
    "    while cantidad>0:\n",
    "        primo=True\n",
    "        raiz=prueba**.5\n",
    "        for p in primos:\n",
    "            if p>raiz:\n",
    "                break\n",
    "            elif prueba % p == 0:\n",
    "                primo=False\n",
    "                break\n",
    "        if primo:\n",
    "            primos.append(prueba)\n",
    "            cantidad-=1\n",
    "        prueba+=2\n",
    "    return primos\n",
    "primos = Gen_primos(2000001)\n",
    "print(time.time() -start)\n",
    "# py 3.5"
   ]
  },
  {
   "cell_type": "code",
   "execution_count": 1,
   "metadata": {},
   "outputs": [
    {
     "name": "stdout",
     "output_type": "stream",
     "text": [
      "261.2597060203552\n"
     ]
    }
   ],
   "source": [
    "import time\n",
    "start= time.time()   \n",
    "def Gen_primos(cantidad):\n",
    "    primos=[2]\n",
    "    prueba=3\n",
    "    while cantidad>0:\n",
    "        primo=True\n",
    "        raiz=prueba**.5\n",
    "        for p in primos:\n",
    "            if p>raiz:\n",
    "                break\n",
    "            elif prueba % p == 0:\n",
    "                primo=False\n",
    "                break\n",
    "        if primo:\n",
    "            primos.append(prueba)\n",
    "            cantidad-=1\n",
    "        prueba+=2\n",
    "    return primos\n",
    "primos=Gen_primos(2000001)\n",
    "print(time.time() -start)\n",
    "#py 3.6"
   ]
  },
  {
   "cell_type": "code",
   "execution_count": 1,
   "metadata": {},
   "outputs": [
    {
     "name": "stdout",
     "output_type": "stream",
     "text": [
      "231.7732937335968\n"
     ]
    }
   ],
   "source": [
    "import time\n",
    "start= time.time()   \n",
    "def Gen_primos(cantidad):\n",
    "    primos=[2]\n",
    "    prueba=3\n",
    "    while cantidad>0:\n",
    "        primo=True\n",
    "        raiz=prueba**.5\n",
    "        for p in primos:\n",
    "            if p>raiz:\n",
    "                break\n",
    "            elif prueba % p == 0:\n",
    "                primo=False\n",
    "                break\n",
    "        if primo:\n",
    "            primos.append(prueba)\n",
    "            cantidad-=1\n",
    "        prueba+=2\n",
    "    return primos\n",
    "primos=Gen_primos(2000001)\n",
    "print(sys.version)\n",
    "print(platform.platform())\n",
    "print(platform.processor())\n",
    "print(time.time() -start)\n",
    "#py 3.6 W10 anaconda 4.4"
   ]
  },
  {
   "cell_type": "code",
   "execution_count": 3,
   "metadata": {},
   "outputs": [
    {
     "name": "stdout",
     "output_type": "stream",
     "text": [
      "145.900000095\n"
     ]
    }
   ],
   "source": [
    "import time\n",
    "start= time.time()   \n",
    "def Gen_primos(cantidad):\n",
    "    primos=[2]\n",
    "    prueba=3\n",
    "    while cantidad>0:\n",
    "        primo=True\n",
    "        raiz=prueba**.5\n",
    "        for p in primos:\n",
    "            if p>raiz:\n",
    "                break\n",
    "            elif prueba % p == 0:\n",
    "                primo=False\n",
    "                break\n",
    "        if primo:\n",
    "            primos.append(prueba)\n",
    "            cantidad-=1\n",
    "        prueba+=2\n",
    "    return primos\n",
    "primos=Gen_primos(2000001)\n",
    "print(time.time() -start)\n",
    "#py 2.7"
   ]
  },
  {
   "cell_type": "code",
   "execution_count": 12,
   "metadata": {},
   "outputs": [
    {
     "name": "stdout",
     "output_type": "stream",
     "text": [
      "18.081673622131348\n"
     ]
    }
   ],
   "source": [
    "from numba import jit\n",
    "import time\n",
    "start= time.time()\n",
    "@jit\n",
    "def Gen_primos(cantidad):\n",
    "    primos=[2]\n",
    "    prueba=3\n",
    "    while cantidad>0:\n",
    "        primo=True\n",
    "        raiz=prueba**.5\n",
    "        for p in primos:\n",
    "            if p>raiz:\n",
    "                break\n",
    "            elif prueba % p == 0:\n",
    "                primo=False\n",
    "                break\n",
    "        if primo:\n",
    "            primos.append(prueba)\n",
    "            cantidad-=1\n",
    "        prueba+=2\n",
    "    return primos\n",
    "primos=Gen_primos(2000000)\n",
    "print(time.time() -start)\n",
    "#py 2.7"
   ]
  },
  {
   "cell_type": "code",
   "execution_count": 2,
   "metadata": {},
   "outputs": [
    {
     "name": "stdout",
     "output_type": "stream",
     "text": [
      "18.081331968307495\n"
     ]
    }
   ],
   "source": [
    "from numba import jit\n",
    "import time\n",
    "start= time.time()\n",
    "@jit\n",
    "def Gen_primos(cantidad):\n",
    "    primos=[2]\n",
    "    prueba=3\n",
    "    while cantidad>0:\n",
    "        primo=True\n",
    "        raiz=prueba**.5\n",
    "        for p in primos:\n",
    "            if p>raiz:\n",
    "                break\n",
    "            elif prueba % p == 0:\n",
    "                primo=False\n",
    "                break\n",
    "        if primo:\n",
    "            primos.append(prueba)\n",
    "            cantidad-=1\n",
    "        prueba+=2\n",
    "    return primos\n",
    "primos=Gen_primos(2000000)\n",
    "print(time.time() -start)\n",
    "#py 3.6"
   ]
  },
  {
   "cell_type": "code",
   "execution_count": 2,
   "metadata": {},
   "outputs": [
    {
     "name": "stdout",
     "output_type": "stream",
     "text": [
      "3.6.1 |Anaconda 4.4.0 (64-bit)| (default, May 11 2017, 13:25:24) [MSC v.1900 64 bit (AMD64)]\n",
      "Windows-10-10.0.14393-SP0\n",
      "Intel64 Family 6 Model 58 Stepping 9, GenuineIntel\n",
      "11.5249662399292\n"
     ]
    }
   ],
   "source": [
    "import sys\n",
    "import platform\n",
    "from numba import jit\n",
    "import time\n",
    "start= time.time()\n",
    "@jit\n",
    "def Gen_primos(cantidad):\n",
    "    primos=[2]\n",
    "    prueba=3\n",
    "    while cantidad>0:\n",
    "        primo=True\n",
    "        raiz=prueba**.5\n",
    "        for p in primos:\n",
    "            if p>raiz:\n",
    "                break\n",
    "            elif prueba % p == 0:\n",
    "                primo=False\n",
    "                break\n",
    "        if primo:\n",
    "            primos.append(prueba)\n",
    "            cantidad-=1\n",
    "        prueba+=2\n",
    "    return primos\n",
    "primos=Gen_primos(2000000)\n",
    "print(sys.version)\n",
    "print(platform.platform())\n",
    "print(platform.processor())\n",
    "print(time.time() -start)"
   ]
  },
  {
   "cell_type": "code",
   "execution_count": 5,
   "metadata": {},
   "outputs": [
    {
     "name": "stdout",
     "output_type": "stream",
     "text": [
      "3.6.1 |Anaconda 4.4.0 (64-bit)| (default, May 11 2017, 13:25:24) [MSC v.1900 64 bit (AMD64)]\n",
      "Windows-10-10.0.14393-SP0\n",
      "Intel64 Family 6 Model 58 Stepping 9, GenuineIntel\n",
      "10.719823837280273\n"
     ]
    }
   ],
   "source": [
    "import sys\n",
    "import platform\n",
    "from numba import jit\n",
    "import time\n",
    "start= time.time()\n",
    "@jit\n",
    "def Gen_primos(cantidad):\n",
    "    primos=[2]\n",
    "    prueba=3\n",
    "    while cantidad>0:\n",
    "        primo=True\n",
    "        raiz=prueba**.5\n",
    "        for p in primos:\n",
    "            if p>raiz:\n",
    "                break\n",
    "            elif prueba % p == 0:\n",
    "                primo=False\n",
    "                break\n",
    "        if primo:\n",
    "            primos.append(prueba)\n",
    "            cantidad-=1\n",
    "        prueba+=2\n",
    "    return primos\n",
    "primos=Gen_primos(2000000)\n",
    "print(sys.version)\n",
    "print(platform.platform())\n",
    "print(platform.processor())\n",
    "print(time.time() -start)"
   ]
  },
  {
   "cell_type": "code",
   "execution_count": 2,
   "metadata": {},
   "outputs": [
    {
     "name": "stdout",
     "output_type": "stream",
     "text": [
      "3.6.1 |Anaconda 4.4.0 (64-bit)| (default, May 11 2017, 13:25:24) [MSC v.1900 64 bit (AMD64)]\n",
      "Windows-10-10.0.14393-SP0\n",
      "Intel64 Family 6 Model 23 Stepping 6, GenuineIntel\n",
      "25.297226190567017\n"
     ]
    }
   ],
   "source": [
    "import sys\n",
    "import platform\n",
    "from numba import jit\n",
    "import time\n",
    "start= time.time()\n",
    "@jit\n",
    "def Gen_primos(cantidad):\n",
    "    primos=[2]\n",
    "    prueba=3\n",
    "    while cantidad>0:\n",
    "        primo=True\n",
    "        raiz=prueba**.5\n",
    "        for p in primos:\n",
    "            if p>raiz:\n",
    "                break\n",
    "            elif prueba % p == 0:\n",
    "                primo=False\n",
    "                break\n",
    "        if primo:\n",
    "            primos.append(prueba)\n",
    "            cantidad-=1\n",
    "        prueba+=2\n",
    "    return primos\n",
    "primos=Gen_primos(2000000)\n",
    "print(sys.version)\n",
    "print(platform.platform())\n",
    "print(platform.processor())\n",
    "print(time.time() -start)"
   ]
  },
  {
   "cell_type": "code",
   "execution_count": 17,
   "metadata": {},
   "outputs": [
    {
     "name": "stdout",
     "output_type": "stream",
     "text": [
      "8.5565824508667\n",
      "3.6.2 |Anaconda custom (64-bit)| (default, Jul 20 2017, 13:51:32) \n",
      "[GCC 4.4.7 20120313 (Red Hat 4.4.7-1)]\n",
      "Linux-4.9.50-1-MANJARO-x86_64-with-glibc2.2.5\n",
      "Intel(R) Core(TM) i7-3517U CPU @ 1.90GHz\n"
     ]
    }
   ],
   "source": [
    "import sys\n",
    "import platform\n",
    "import cpuinfo\n",
    "from numba import jit\n",
    "import time\n",
    "start= time.time()\n",
    "@jit\n",
    "def Gen_primos(cantidad):\n",
    "    primos=[2]\n",
    "    prueba=3\n",
    "    while cantidad>0:\n",
    "        primo=True\n",
    "        raiz=prueba**.5\n",
    "        for p in primos:\n",
    "            if p>raiz:\n",
    "                break\n",
    "            elif prueba % p == 0:\n",
    "                primo=False\n",
    "                break\n",
    "        if primo:\n",
    "            primos.append(prueba)\n",
    "            cantidad-=1\n",
    "        prueba+=2\n",
    "    return primos\n",
    "primos=Gen_primos(2000000)\n",
    "print(time.time() -start)\n",
    "print(sys.version)\n",
    "print(platform.platform())\n",
    "print(cpuinfo.get_cpu_info()['brand'])\n"
   ]
  },
  {
   "cell_type": "code",
   "execution_count": 1,
   "metadata": {},
   "outputs": [
    {
     "name": "stdout",
     "output_type": "stream",
     "text": [
      "194.9579758644104\n",
      "3.6.2 |Anaconda custom (64-bit)| (default, Jul 20 2017, 13:51:32) \n",
      "[GCC 4.4.7 20120313 (Red Hat 4.4.7-1)]\n",
      "Linux-4.9.50-1-MANJARO-x86_64-with-glibc2.2.5\n",
      "Intel(R) Core(TM) i7-3517U CPU @ 1.90GHz\n"
     ]
    }
   ],
   "source": [
    "import sys\n",
    "import platform\n",
    "import cpuinfo\n",
    "import time\n",
    "start= time.time()\n",
    "def Gen_primos(cantidad):\n",
    "    primos=[2]\n",
    "    prueba=3\n",
    "    while cantidad>0:\n",
    "        primo=True\n",
    "        raiz=prueba**.5\n",
    "        for p in primos:\n",
    "            if p>raiz:\n",
    "                break\n",
    "            elif prueba % p == 0:\n",
    "                primo=False\n",
    "                break\n",
    "        if primo:\n",
    "            primos.append(prueba)\n",
    "            cantidad-=1\n",
    "        prueba+=2\n",
    "    return primos\n",
    "primos=Gen_primos(2000000)\n",
    "print(time.time() -start)\n",
    "print(sys.version)\n",
    "print(platform.platform())\n",
    "print(cpuinfo.get_cpu_info()['brand'])"
   ]
  },
  {
   "cell_type": "code",
   "execution_count": 2,
   "metadata": {},
   "outputs": [
    {
     "name": "stdout",
     "output_type": "stream",
     "text": [
      "8.94428563117981\n",
      "3.6.2 |Anaconda, Inc.| (default, Sep 30 2017, 18:42:57) \n",
      "[GCC 7.2.0]\n",
      "Linux-4.9.52-1-MANJARO-x86_64-with-glibc2.9\n",
      "Intel(R) Core(TM) i7-3517U CPU @ 1.90GHz\n"
     ]
    }
   ],
   "source": [
    "import sys\n",
    "import platform\n",
    "import cpuinfo\n",
    "import time\n",
    "from numba import jit\n",
    "start= time.time()\n",
    "@jit\n",
    "def Gen_primos(cantidad):\n",
    "    primos=[2]\n",
    "    prueba=3\n",
    "    while cantidad>0:\n",
    "        primo=True\n",
    "        raiz=prueba**.5\n",
    "        for p in primos:\n",
    "            if p>raiz:\n",
    "                break\n",
    "            elif prueba % p == 0:\n",
    "                primo=False\n",
    "                break\n",
    "        if primo:\n",
    "            primos.append(prueba)\n",
    "            cantidad-=1\n",
    "        prueba+=2\n",
    "    return primos\n",
    "primos=Gen_primos(2000000)\n",
    "print(time.time() -start)\n",
    "print(sys.version)\n",
    "print(platform.platform())\n",
    "print(cpuinfo.get_cpu_info()['brand'])\n"
   ]
  },
  {
   "cell_type": "code",
   "execution_count": 1,
   "metadata": {},
   "outputs": [
    {
     "name": "stdout",
     "output_type": "stream",
     "text": [
      "154.89101696014404\n",
      "3.6.2 |Anaconda, Inc.| (default, Sep 30 2017, 18:42:57) \n",
      "[GCC 7.2.0]\n",
      "Linux-4.9.52-1-MANJARO-x86_64-with-glibc2.9\n",
      "Intel(R) Core(TM) i7-3517U CPU @ 1.90GHz\n"
     ]
    }
   ],
   "source": [
    "import sys\n",
    "import platform\n",
    "import cpuinfo\n",
    "import time\n",
    "start= time.time()\n",
    "def Gen_primos(cantidad):\n",
    "    primos=[2]\n",
    "    prueba=3\n",
    "    while cantidad>0:\n",
    "        primo=True\n",
    "        raiz=prueba**.5\n",
    "        for p in primos:\n",
    "            if p>raiz:\n",
    "                break\n",
    "            elif prueba % p == 0:\n",
    "                primo=False\n",
    "                break\n",
    "        if primo:\n",
    "            primos.append(prueba)\n",
    "            cantidad-=1\n",
    "        prueba+=2\n",
    "    return primos\n",
    "primos=Gen_primos(2000000)\n",
    "print(time.time() -start)\n",
    "print(sys.version)\n",
    "print(platform.platform())\n",
    "print(cpuinfo.get_cpu_info()['brand'])"
   ]
  },
  {
   "cell_type": "code",
   "execution_count": 2,
   "metadata": {},
   "outputs": [
    {
     "name": "stdout",
     "output_type": "stream",
     "text": [
      "148.965235949\n",
      "2.7.13 |Anaconda, Inc.| (default, Sep 30 2017, 18:12:43) \n",
      "[GCC 7.2.0]\n",
      "Linux-4.9.51-1-MANJARO-x86_64-with-glibc2.2.5\n",
      "Intel(R) Core(TM) i7-3517U CPU @ 1.90GHz\n"
     ]
    }
   ],
   "source": [
    "import sys\n",
    "import platform\n",
    "import cpuinfo\n",
    "import time\n",
    "start= time.time()\n",
    "def Gen_primos(cantidad):\n",
    "    primos=[2]\n",
    "    prueba=3\n",
    "    while cantidad>0:\n",
    "        primo=True\n",
    "        raiz=prueba**.5\n",
    "        for p in primos:\n",
    "            if p>raiz:\n",
    "                break\n",
    "            elif prueba % p == 0:\n",
    "                primo=False\n",
    "                break\n",
    "        if primo:\n",
    "            primos.append(prueba)\n",
    "            cantidad-=1\n",
    "        prueba+=2\n",
    "    return primos\n",
    "primos=Gen_primos(2000000)\n",
    "print(time.time() -start)\n",
    "print(sys.version)\n",
    "print(platform.platform())\n",
    "print(cpuinfo.get_cpu_info()['brand'])"
   ]
  },
  {
   "cell_type": "code",
   "execution_count": null,
   "metadata": {
    "collapsed": true
   },
   "outputs": [],
   "source": []
  }
 ],
 "metadata": {
  "anaconda-cloud": {},
  "kernelspec": {
   "display_name": "Python 3",
   "language": "python",
   "name": "python3"
  },
  "language_info": {
   "codemirror_mode": {
    "name": "ipython",
    "version": 3
   },
   "file_extension": ".py",
   "mimetype": "text/x-python",
   "name": "python",
   "nbconvert_exporter": "python",
   "pygments_lexer": "ipython3",
   "version": "3.6.2"
  }
 },
 "nbformat": 4,
 "nbformat_minor": 2
}
