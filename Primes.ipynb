{
 "cells": [
  {
   "cell_type": "code",
   "execution_count": 1,
   "metadata": {},
   "outputs": [
    {
     "name": "stdout",
     "output_type": "stream",
     "text": [
      "158.71581745147705\n",
      "3.6.2 |Anaconda, Inc.| (default, Sep 30 2017, 18:42:57) \n",
      "[GCC 7.2.0]\n",
      "Linux-4.9.53-1-MANJARO-x86_64-with-glibc2.9\n",
      "Intel(R) Core(TM) i7-3517U CPU @ 1.90GHz\n"
     ]
    }
   ],
   "source": [
    "import sys\n",
    "import platform\n",
    "import cpuinfo\n",
    "import time\n",
    "start= time.time()\n",
    "def Gen_primos(cantidad):\n",
    "    primos=[2]\n",
    "    prueba=3\n",
    "    while cantidad>0:\n",
    "        primo=True\n",
    "        raiz=prueba**.5\n",
    "        for p in primos:\n",
    "            if p>raiz:\n",
    "                break\n",
    "            elif prueba % p == 0:\n",
    "                primo=False\n",
    "                break\n",
    "        if primo:\n",
    "            primos.append(prueba)\n",
    "            cantidad-=1\n",
    "        prueba+=2\n",
    "    return primos\n",
    "primos=Gen_primos(2000000)\n",
    "print(time.time() -start)\n",
    "print(sys.version)\n",
    "print(platform.platform())\n",
    "print(cpuinfo.get_cpu_info()['brand'])"
   ]
  },
  {
   "cell_type": "code",
   "execution_count": 2,
   "metadata": {},
   "outputs": [
    {
     "name": "stdout",
     "output_type": "stream",
     "text": [
      "8.7594735622406\n",
      "3.6.2 |Anaconda, Inc.| (default, Sep 30 2017, 18:42:57) \n",
      "[GCC 7.2.0]\n",
      "Linux-4.9.53-1-MANJARO-x86_64-with-glibc2.9\n",
      "Intel(R) Core(TM) i7-3517U CPU @ 1.90GHz\n"
     ]
    }
   ],
   "source": [
    "import sys\n",
    "import platform\n",
    "import cpuinfo\n",
    "import time\n",
    "from numba import jit\n",
    "start= time.time()\n",
    "@jit\n",
    "def Gen_primos(cantidad):\n",
    "    primos=[2]\n",
    "    prueba=3\n",
    "    while cantidad>0:\n",
    "        primo=True\n",
    "        raiz=prueba**.5\n",
    "        for p in primos:\n",
    "            if p>raiz:\n",
    "                break\n",
    "            elif prueba % p == 0:\n",
    "                primo=False\n",
    "                break\n",
    "        if primo:\n",
    "            primos.append(prueba)\n",
    "            cantidad-=1\n",
    "        prueba+=2\n",
    "    return primos\n",
    "primos=Gen_primos(2000000)\n",
    "print(time.time() -start)\n",
    "print(sys.version)\n",
    "print(platform.platform())\n",
    "print(cpuinfo.get_cpu_info()['brand'])"
   ]
  },
  {
   "cell_type": "code",
   "execution_count": null,
   "metadata": {
    "collapsed": true
   },
   "outputs": [],
   "source": []
  }
 ],
 "metadata": {
  "kernelspec": {
   "display_name": "Python 3",
   "language": "python",
   "name": "python3"
  },
  "language_info": {
   "codemirror_mode": {
    "name": "ipython",
    "version": 3
   },
   "file_extension": ".py",
   "mimetype": "text/x-python",
   "name": "python",
   "nbconvert_exporter": "python",
   "pygments_lexer": "ipython3",
   "version": "3.6.2"
  }
 },
 "nbformat": 4,
 "nbformat_minor": 2
}
